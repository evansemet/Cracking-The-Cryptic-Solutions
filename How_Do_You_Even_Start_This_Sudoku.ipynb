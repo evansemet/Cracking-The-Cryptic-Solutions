{
  "nbformat": 4,
  "nbformat_minor": 0,
  "metadata": {
    "colab": {
      "name": "How_Do_You_Even_Start_This_Sudoku.ipynb",
      "provenance": [],
      "authorship_tag": "ABX9TyNtfG05p2wYcUwXYHzvNYvt",
      "include_colab_link": true
    },
    "kernelspec": {
      "name": "python3",
      "display_name": "Python 3"
    },
    "language_info": {
      "name": "python"
    }
  },
  "cells": [
    {
      "cell_type": "markdown",
      "metadata": {
        "id": "view-in-github",
        "colab_type": "text"
      },
      "source": [
        "<a href=\"https://colab.research.google.com/github/evansemet/Cracking-The-Cryptic-Solutions/blob/main/How_Do_You_Even_Start_This_Sudoku.ipynb\" target=\"_parent\"><img src=\"https://colab.research.google.com/assets/colab-badge.svg\" alt=\"Open In Colab\"/></a>"
      ]
    },
    {
      "cell_type": "code",
      "execution_count": null,
      "metadata": {
        "colab": {
          "base_uri": "https://localhost:8080/"
        },
        "id": "RgiyxHbE5m3u",
        "outputId": "233e192c-e5bf-46c5-d4d9-04db62f2b409"
      },
      "outputs": [
        {
          "output_type": "stream",
          "name": "stdout",
          "text": [
            "Looking in indexes: https://pypi.org/simple, https://us-python.pkg.dev/colab-wheels/public/simple/\n",
            "Requirement already satisfied: z3-solver in /usr/local/lib/python3.7/dist-packages (4.8.17.0)\n"
          ]
        }
      ],
      "source": [
        "!pip install z3-solver\n",
        "import matplotlib.pyplot as plt\n",
        "import numpy as np\n",
        "import seaborn as sns\n",
        "import time\n",
        "from z3 import *"
      ]
    },
    {
      "cell_type": "code",
      "source": [
        "def printBoard(board):\n",
        "  x = np.ones((3,3))\n",
        "  groups = np.block([[x*0,x*1,x*2], [x*3,x*4,x*5], [x*6,x*7,x*8]])\n",
        "  fig, ax = plt.subplots(1, 1, figsize=(3, 3))\n",
        "  x = np.array(board.astype('int').astype('str'))\n",
        "  x[x == \"0\"] = \"-\"\n",
        "  ax = sns.heatmap(groups, annot=x, cbar=False, cmap=\"tab20\", fmt=\"\", vmin=0, vmax=19, linewidths=1, annot_kws={\"size\":10})\n",
        "  ax.axis(\"off\")    \n",
        "  plt.tight_layout()\n",
        "  plt.show()"
      ],
      "metadata": {
        "id": "uF0c-J8V5sqY"
      },
      "execution_count": null,
      "outputs": []
    },
    {
      "cell_type": "code",
      "source": [
        "print(\"Solving...\")\n",
        "start = time.time()\n",
        "board = np.zeros((9, 9))\n",
        "X = np.array(IntVector('x', 9**2), dtype=object).reshape(9, 9)\n",
        "s = Tactic(\"qffd\").solver()\n",
        "\n",
        "# normal sudoku\n",
        "s += [And(i > 0, i < 10) for i in X.ravel()]\n",
        "s += [Distinct(list(X[i, :])) for i in range(9)]\n",
        "s += [Distinct(list(X[:, i])) for i in range(9)]\n",
        "x = np.ones((3,3))\n",
        "groups = np.block([[x*0,x*1,x*2], [x*3,x*4,x*5], [x*6,x*7,x*8]])\n",
        "s += [Distinct(list(X[groups == i].ravel())) for i in range(9)]\n",
        "\n",
        "# add in rules\n",
        "s += And(X[5,2] + X[6,2] == 13, X[5,5] + X[6,5] == 12, X[5,8] + X[6,8] == 11)\n",
        "\n",
        "def circle(r,c):\n",
        "  p1 = X[r,c]; p2 = X[r,c+1]; p3 = X[r+1,c]; p4 = X[r+1,c+1]\n",
        "  return Or(p1+p2+p3==p4, p1+p2+p4==p3, p1+p3+p4==p2, p2+p3+p4==p1)\n",
        "s += And(circle(0,1), circle(0,3), circle(1,5), circle(3,0), circle(3,3), circle(3,7), circle(6,0), circle(7,3))\n",
        "\n",
        "# only need to do diagonal king moves because other rules cover orthagonal king moves\n",
        "king_moves = [(1,1), (1,-1), (-1,1), (-1,-1)]\n",
        "for (r,c),e in np.ndenumerate(X):\n",
        "  for a,b in king_moves:\n",
        "    if r+a>=0 and r+a<9 and c+b>=0 and c+b<9:\n",
        "      s += e != X[r+a,c+b]\n",
        "\n",
        "if s.check() == sat:\n",
        "  m = s.model()\n",
        "  eval = np.vectorize(lambda x : m.evaluate(x))\n",
        "  boardTemp = eval(X)\n",
        "  print(f\"Solved in {time.time() - start} seconds.\")\n",
        "  for (r, c), e in np.ndenumerate(boardTemp):\n",
        "    board[r][c] = str(e)\n",
        "  printBoard(board)\n",
        "else:\n",
        "  print(f\"Failed in {time.time() - start} seconds.\")"
      ],
      "metadata": {
        "colab": {
          "base_uri": "https://localhost:8080/",
          "height": 261
        },
        "id": "XyVwmYB_5ud8",
        "outputId": "4e67ef23-0f07-43c6-d05e-c917f7c3300e"
      },
      "execution_count": null,
      "outputs": [
        {
          "output_type": "stream",
          "name": "stdout",
          "text": [
            "Solving...\n",
            "Solved in 13.04356837272644 seconds.\n"
          ]
        },
        {
          "output_type": "display_data",
          "data": {
            "text/plain": [
              "<Figure size 216x216 with 1 Axes>"
            ],
            "image/png": "[encoded data removed]"
          },
          "metadata": {
            "needs_background": "light"
          }
        }
      ]
    }
  ]
}