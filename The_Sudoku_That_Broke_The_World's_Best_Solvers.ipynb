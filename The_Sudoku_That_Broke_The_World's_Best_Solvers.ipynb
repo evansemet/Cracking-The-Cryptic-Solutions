{
  "nbformat": 4,
  "nbformat_minor": 0,
  "metadata": {
    "colab": {
      "name": "The_Sudoku_That_Broke_The_World's_Best_Solvers.ipynb",
      "provenance": [],
      "authorship_tag": "ABX9TyM29qlSwfdExdaCXRfGr8RF",
      "include_colab_link": true
    },
    "kernelspec": {
      "name": "python3",
      "display_name": "Python 3"
    },
    "language_info": {
      "name": "python"
    }
  },
  "cells": [
    {
      "cell_type": "markdown",
      "metadata": {
        "id": "view-in-github",
        "colab_type": "text"
      },
      "source": [
        "<a href=\"https://colab.research.google.com/github/evansemet/Cracking-The-Cryptic-Solutions/blob/main/The_Sudoku_That_Broke_The_World's_Best_Solvers.ipynb\" target=\"_parent\"><img src=\"https://colab.research.google.com/assets/colab-badge.svg\" alt=\"Open In Colab\"/></a>"
      ]
    },
    {
      "cell_type": "code",
      "execution_count": 3,
      "metadata": {
        "colab": {
          "base_uri": "https://localhost:8080/"
        },
        "id": "YeuC9R-SR8na",
        "outputId": "d74bf397-afae-48cc-a1c7-4d28fb9f9eab"
      },
      "outputs": [
        {
          "output_type": "stream",
          "name": "stdout",
          "text": [
            "Looking in indexes: https://pypi.org/simple, https://us-python.pkg.dev/colab-wheels/public/simple/\n",
            "Requirement already satisfied: z3-solver in /usr/local/lib/python3.7/dist-packages (4.8.17.0)\n"
          ]
        }
      ],
      "source": [
        "!pip install z3-solver\n",
        "import matplotlib.pyplot as plt\n",
        "import numpy as np\n",
        "import seaborn as sns\n",
        "import time\n",
        "from z3 import *"
      ]
    },
    {
      "cell_type": "code",
      "source": [
        "def printBoard(board):\n",
        "  x = np.ones((3,3))\n",
        "  groups = np.block([[x*0,x*1,x*2], [x*3,x*4,x*5], [x*6,x*7,x*8]])\n",
        "  fig, ax = plt.subplots(1, 1, figsize=(3, 3))\n",
        "  x = np.array(board.astype('int').astype('str'))\n",
        "  x[x == \"0\"] = \"-\"\n",
        "  ax = sns.heatmap(groups, annot=x, cbar=False, cmap=\"tab20\", fmt=\"\", vmin=0, vmax=19, linewidths=1, annot_kws={\"size\":10})\n",
        "  ax.axis(\"off\")    \n",
        "  plt.tight_layout()\n",
        "  plt.show()"
      ],
      "metadata": {
        "id": "ELtwo_enSYXn"
      },
      "execution_count": 2,
      "outputs": []
    },
    {
      "cell_type": "code",
      "source": [
        "print(\"Solving...\")\n",
        "start = time.time()\n",
        "board = np.zeros((9, 9))\n",
        "X = np.array(IntVector('x', 9**2), dtype=object).reshape(9, 9)\n",
        "s = Tactic('default').solver()\n",
        "\n",
        "# normal sudoku\n",
        "s += [And(i > 0, i < 10) for i in X.ravel()]\n",
        "s += [Distinct(list(X[i, :])) for i in range(9)]\n",
        "s += [Distinct(list(X[:, i])) for i in range(9)]\n",
        "x = np.ones((3,3))\n",
        "groups = np.block([[x*0,x*1,x*2], [x*3,x*4,x*5], [x*6,x*7,x*8]])\n",
        "s += [Distinct(list(X[groups == i].ravel())) for i in range(9)]\n",
        "\n",
        "# add in rules\n",
        "orth = [(0,1), (-1,0)]\n",
        "exceptions = [(1,2), (1,4), (1,6), (2,1), (2,3), (2,5), (2,7), (3,2), (3,4), (3,6)]\n",
        "for (r, c), e in np.ndenumerate(X):\n",
        "  for (a,b) in orth:\n",
        "    if r+a>=0 and c+b<9:\n",
        "      s += e + X[r+a,c+b] != 5\n",
        "  if c+1<9:\n",
        "    s += e + X[r,c+1] != 10\n",
        "  if (r, c) not in exceptions:\n",
        "    if r-1>=0:\n",
        "      s += e + X[r-1,c] != 10\n",
        "  else:\n",
        "    s += e + X[r-1,c] == 10\n",
        "  \n",
        "# givens\n",
        "s += And(X[5,1]==5, X[5,3]==3, X[5,5]==8, X[5,7]==2,\\\n",
        "         X[6,0]==2, X[6,2]==5, X[6,4]==3, X[6,6]==6, X[6,8]==9,\\\n",
        "         X[7,1]==9, X[7,3]==4, X[7,5]==6, X[7,7]==1)\n",
        "\n",
        "if s.check() == sat:\n",
        "  m = s.model()\n",
        "  eval = np.vectorize(lambda x : m.evaluate(x))\n",
        "  boardTemp = eval(X)\n",
        "  print(f\"Solved in {time.time() - start} seconds.\")\n",
        "  for (r, c), e in np.ndenumerate(boardTemp):\n",
        "    board[r][c] = str(e)\n",
        "  printBoard(board)\n",
        "else:\n",
        "  print(f\"Failed in {time.time() - start} seconds.\")"
      ],
      "metadata": {
        "colab": {
          "base_uri": "https://localhost:8080/",
          "height": 261
        },
        "id": "GS60UQHGScB9",
        "outputId": "c8fa5170-53c8-4c78-fbd9-46affc02d971"
      },
      "execution_count": 23,
      "outputs": [
        {
          "output_type": "stream",
          "name": "stdout",
          "text": [
            "Solving...\n",
            "Solved in 0.260922908782959 seconds.\n"
          ]
        },
        {
          "output_type": "display_data",
          "data": {
            "text/plain": [
              "<Figure size 216x216 with 1 Axes>"
            ],
            "image/png": "[encoded data removed]"
          },
          "metadata": {
            "needs_background": "light"
          }
        }
      ]
    }
  ]
}