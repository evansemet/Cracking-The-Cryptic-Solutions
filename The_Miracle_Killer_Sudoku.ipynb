{
  "nbformat": 4,
  "nbformat_minor": 0,
  "metadata": {
    "colab": {
      "name": "The_Miracle_Killer_Sudoku.ipynb",
      "provenance": [],
      "authorship_tag": "ABX9TyOEgZmO5m+Iu/wZih9g8M9s",
      "include_colab_link": true
    },
    "kernelspec": {
      "name": "python3",
      "display_name": "Python 3"
    },
    "language_info": {
      "name": "python"
    }
  },
  "cells": [
    {
      "cell_type": "markdown",
      "metadata": {
        "id": "view-in-github",
        "colab_type": "text"
      },
      "source": [
        "<a href=\"https://colab.research.google.com/github/evansemet/Cracking-The-Cryptic-Solutions/blob/main/The_Miracle_Killer_Sudoku.ipynb\" target=\"_parent\"><img src=\"https://colab.research.google.com/assets/colab-badge.svg\" alt=\"Open In Colab\"/></a>"
      ]
    },
    {
      "cell_type": "code",
      "execution_count": 4,
      "metadata": {
        "colab": {
          "base_uri": "https://localhost:8080/"
        },
        "id": "fg2vbG33z4DN",
        "outputId": "24282680-605f-47d5-a8b8-359f59599e58"
      },
      "outputs": [
        {
          "output_type": "stream",
          "name": "stdout",
          "text": [
            "Looking in indexes: https://pypi.org/simple, https://us-python.pkg.dev/colab-wheels/public/simple/\n",
            "Requirement already satisfied: z3-solver in /usr/local/lib/python3.7/dist-packages (4.8.17.0)\n"
          ]
        }
      ],
      "source": [
        "!pip install z3-solver\n",
        "import matplotlib.pyplot as plt\n",
        "import numpy as np\n",
        "import seaborn as sns\n",
        "import time\n",
        "from z3 import *"
      ]
    },
    {
      "cell_type": "code",
      "source": [
        "def printBoard(board):\n",
        "  x = np.ones((3,3))\n",
        "  groups = np.block([[x*0,x*1,x*2], [x*3,x*4,x*5], [x*6,x*7,x*8]])\n",
        "  fig, ax = plt.subplots(1, 1, figsize=(3, 3))\n",
        "  x = np.array(board.astype('int').astype('str'))\n",
        "  x[x == \"0\"] = \"-\"\n",
        "  ax = sns.heatmap(groups, annot=x, cbar=False, cmap=\"tab20\", fmt=\"\", vmin=0, vmax=19, linewidths=1, annot_kws={\"size\":10})\n",
        "  ax.axis(\"off\")    \n",
        "  plt.tight_layout()\n",
        "  plt.show()"
      ],
      "metadata": {
        "id": "S9sMmTTv0KFr"
      },
      "execution_count": 5,
      "outputs": []
    },
    {
      "cell_type": "code",
      "source": [
        "print(\"Solving...\")\n",
        "start = time.time()\n",
        "board = np.zeros((9, 9))\n",
        "X = np.array(IntVector('x', 9**2), dtype=object).reshape(9, 9)\n",
        "s = Tactic('default').solver()\n",
        "\n",
        "# normal sudoku\n",
        "s += [And(i > 0, i < 10) for i in X.ravel()]\n",
        "s += [Distinct(list(X[i, :])) for i in range(9)]\n",
        "s += [Distinct(list(X[:, i])) for i in range(9)]\n",
        "x = np.ones((3,3))\n",
        "groups = np.block([[x*0,x*1,x*2], [x*3,x*4,x*5], [x*6,x*7,x*8]])\n",
        "s += [Distinct(list(X[groups == i].ravel())) for i in range(9)]\n",
        "\n",
        "# add in rules\n",
        "s += X[1,1] + X[2,1] + X[3,1] == 7\n",
        "s += X[1,5] + X[1,6] == 5\n",
        "s += X[2,6] + X[2,7] == 6\n",
        "s += X[3,5] + X[3,6] == 6\n",
        "s += And(X[5,2] + X[5,3] + X[6,3] == 23, X[5,2] != X[6,3])\n",
        "s += X[6,2] + X[7,2] == 17\n",
        "s += X[8,5] + X[8,6] == 3\n",
        "s += X[5,8] + X[6,8] == 15\n",
        "\n",
        "if s.check() == sat:\n",
        "  m = s.model()\n",
        "  eval = np.vectorize(lambda x : m.evaluate(x))\n",
        "  boardTemp = eval(X)\n",
        "  print(f\"Solved in {time.time() - start} seconds.\")\n",
        "  for (r, c), e in np.ndenumerate(boardTemp):\n",
        "    board[r][c] = str(e)\n",
        "  printBoard(board)\n",
        "else:\n",
        "  print(f\"Failed in {time.time() - start} seconds.\")"
      ],
      "metadata": {
        "colab": {
          "base_uri": "https://localhost:8080/",
          "height": 261
        },
        "id": "L5esLvQ40YGS",
        "outputId": "d40fa738-56f9-474f-94eb-1f171fb6319c"
      },
      "execution_count": 6,
      "outputs": [
        {
          "output_type": "stream",
          "name": "stdout",
          "text": [
            "Solving...\n",
            "Solved in 18.964365005493164 seconds.\n"
          ]
        },
        {
          "output_type": "display_data",
          "data": {
            "text/plain": [
              "<Figure size 216x216 with 1 Axes>"
            ],
            "image/png": "[encoded data removed]"
          },
          "metadata": {
            "needs_background": "light"
          }
        }
      ]
    }
  ]
}