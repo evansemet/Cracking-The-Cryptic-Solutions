{
  "nbformat": 4,
  "nbformat_minor": 0,
  "metadata": {
    "colab": {
      "name": "The_Sudoku_With_No_Digits_At_All.ipynb",
      "provenance": [],
      "authorship_tag": "ABX9TyNj3sjeW8V9sZ9HxbjyNsVo",
      "include_colab_link": true
    },
    "kernelspec": {
      "name": "python3",
      "display_name": "Python 3"
    },
    "language_info": {
      "name": "python"
    }
  },
  "cells": [
    {
      "cell_type": "markdown",
      "metadata": {
        "id": "view-in-github",
        "colab_type": "text"
      },
      "source": [
        "<a href=\"https://colab.research.google.com/github/evansemet/Cracking-The-Cryptic-Solutions/blob/main/The_Sudoku_With_No_Digits_At_All.ipynb\" target=\"_parent\"><img src=\"https://colab.research.google.com/assets/colab-badge.svg\" alt=\"Open In Colab\"/></a>"
      ]
    },
    {
      "cell_type": "code",
      "execution_count": 8,
      "metadata": {
        "colab": {
          "base_uri": "https://localhost:8080/"
        },
        "id": "3TPZkEXxFKd2",
        "outputId": "0592d927-b56d-41c8-d534-c7b2d84330b7"
      },
      "outputs": [
        {
          "output_type": "stream",
          "name": "stdout",
          "text": [
            "Looking in indexes: https://pypi.org/simple, https://us-python.pkg.dev/colab-wheels/public/simple/\n",
            "Requirement already satisfied: z3-solver in /usr/local/lib/python3.7/dist-packages (4.8.17.0)\n"
          ]
        }
      ],
      "source": [
        "!pip install z3-solver\n",
        "import matplotlib.pyplot as plt\n",
        "import numpy as np\n",
        "import seaborn as sns\n",
        "import time\n",
        "from z3 import *"
      ]
    },
    {
      "cell_type": "code",
      "source": [
        "def printBoard(board):\n",
        "  x = np.ones((3,3))\n",
        "  groups = np.block([[x*0,x*1,x*2], [x*3,x*4,x*5], [x*6,x*7,x*8]])\n",
        "  fig, ax = plt.subplots(1, 1, figsize=(3, 3))\n",
        "  x = np.array(board.astype('int').astype('str'))\n",
        "  x[x == \"0\"] = \"-\"\n",
        "  ax = sns.heatmap(groups, annot=x, cbar=False, cmap=\"tab20\", fmt=\"\", vmin=0, vmax=19, linewidths=1, annot_kws={\"size\":10})\n",
        "  ax.axis(\"off\")    \n",
        "  plt.tight_layout()\n",
        "  plt.show()"
      ],
      "metadata": {
        "id": "kSAXpuZqFSy_"
      },
      "execution_count": 9,
      "outputs": []
    },
    {
      "cell_type": "code",
      "source": [
        "print(\"Solving...\")\n",
        "start = time.time()\n",
        "board = np.zeros((9, 9))\n",
        "X = np.array(IntVector('x', 9**2), dtype=object).reshape(9, 9)\n",
        "s = Tactic(\"qffd\").solver()\n",
        "\n",
        "# normal sudoku\n",
        "s += [And(i > 0, i < 10) for i in X.ravel()]\n",
        "s += [Distinct(list(X[i, :])) for i in range(9)]\n",
        "s += [Distinct(list(X[:, i])) for i in range(9)]\n",
        "x = np.ones((3,3))\n",
        "groups = np.block([[x*0,x*1,x*2], [x*3,x*4,x*5], [x*6,x*7,x*8]])\n",
        "s += [Distinct(list(X[groups == i].ravel())) for i in range(9)]\n",
        "\n",
        "# add in rules\n",
        "# top left\n",
        "tl_1 = X[0,0] + X[0,1]; tl_2 = X[0,2] + X[1,2]; tl_3 = X[1,1] + X[2,1]; tl_4 = X[2,0]\n",
        "s += And(tl_1 == tl_2, tl_1 == tl_3, tl_1 == tl_4)\n",
        "\n",
        "# top mid\n",
        "tm_1 = X[0,3] + X[1,3] + X[2,3]; tm_2 = X[0,4] + X[0,5] + X[1,5]; tm_3 = X[1,4] + X[2,4]\n",
        "s += And(tm_1 == tm_2, tm_1 == tm_3)\n",
        "\n",
        "# top right\n",
        "tr_1 = X[0,6] + X[0,7] + X[0,8]; tr_2 = X[1,6] + X[2,6]; tr_3 = X[1,7] + X[1,8] + X[2,7] +X[2,8]\n",
        "s += And(tr_1 == tr_2, tr_1 == tr_3)\n",
        "\n",
        "# center left\n",
        "cl_1 = X[3,1] + X[3,2]; cl_2 = X[4,0] + X[4,1]; cl_3 = X[4,2] + X[5,2]; cl_4 = X[5,0] + X[5,1]\n",
        "s += And(cl_1 == cl_2, cl_1 == cl_3, cl_1 == cl_4)\n",
        "\n",
        "# center mid\n",
        "cm_1 = X[4,3] + X[5,3]; cm_2 = X[3,4] + X[4,4] + X[5,4] + X[4,5] + X[5,5]\n",
        "s += cm_1 == cm_2\n",
        "\n",
        "# center right\n",
        "cr_1 = X[3,7] +X[4,7] + X[4,6] + X[5,6]; cr_2 = X[3,8] +X[4,8]\n",
        "s += cr_1 == cr_2\n",
        "\n",
        "# bottom left\n",
        "bl_1 = X[7,0] + X[7,1]\n",
        "\n",
        "# bottom mid\n",
        "bm_1 = X[6,3] + X[6,4]; bm_2 = X[7,3] + X[7,4]; bm_3 = X[8,3]; bm_4 = X[6,5] + X[7,5]\n",
        "s += And(bm_1 == bm_2, bm_1 == bm_3, bm_1 == bm_4)\n",
        "\n",
        "# bottom right\n",
        "br_1 = X[6,6] + X[6,7]; br_2 = X[7,6] + X[7,7] + X[8,7]; br_3 = X[6,8] + X[7,8] + X[8,8]\n",
        "s += And(br_1 == br_2, br_1 == br_3)\n",
        "\n",
        "# distinct sums\n",
        "groups = [tl_1, tm_1, tr_1, cl_1, cm_1, cr_1, bl_1, bm_1, br_1]\n",
        "s += [Distinct(groups[i]) for i in range(9)]\n",
        "\n",
        "if s.check() == sat:\n",
        "  m = s.model()\n",
        "  eval = np.vectorize(lambda x : m.evaluate(x))\n",
        "  boardTemp = eval(X)\n",
        "  print(f\"Solved in {time.time() - start} seconds.\")\n",
        "  for (r, c), e in np.ndenumerate(boardTemp):\n",
        "    board[r][c] = str(e)\n",
        "  printBoard(board)\n",
        "else:\n",
        "  print(f\"Failed in {time.time() - start} seconds.\")"
      ],
      "metadata": {
        "colab": {
          "base_uri": "https://localhost:8080/",
          "height": 261
        },
        "id": "ZBzzY8TlFU9f",
        "outputId": "8f0cb256-4db2-4009-a7d5-ea21836df938"
      },
      "execution_count": 10,
      "outputs": [
        {
          "output_type": "stream",
          "name": "stdout",
          "text": [
            "Solving...\n",
            "Solved in 4.610995769500732 seconds.\n"
          ]
        },
        {
          "output_type": "display_data",
          "data": {
            "text/plain": [
              "<Figure size 216x216 with 1 Axes>"
            ],
            "image/png": "[encoded data removed]"
          },
          "metadata": {
            "needs_background": "light"
          }
        }
      ]
    }
  ]
}