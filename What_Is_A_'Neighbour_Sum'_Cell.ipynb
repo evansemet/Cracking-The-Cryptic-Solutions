{
  "nbformat": 4,
  "nbformat_minor": 0,
  "metadata": {
    "colab": {
      "name": "What_Is_A_'Neighbour_Sum'_Cell.ipynb",
      "provenance": [],
      "authorship_tag": "ABX9TyPZDDILls4e/QeQIiSgBqEq",
      "include_colab_link": true
    },
    "kernelspec": {
      "name": "python3",
      "display_name": "Python 3"
    },
    "language_info": {
      "name": "python"
    }
  },
  "cells": [
    {
      "cell_type": "markdown",
      "metadata": {
        "id": "view-in-github",
        "colab_type": "text"
      },
      "source": [
        "<a href=\"https://colab.research.google.com/github/evansemet/Cracking-The-Cryptic-Solutions/blob/main/What_Is_A_'Neighbour_Sum'_Cell.ipynb\" target=\"_parent\"><img src=\"https://colab.research.google.com/assets/colab-badge.svg\" alt=\"Open In Colab\"/></a>"
      ]
    },
    {
      "cell_type": "code",
      "execution_count": 9,
      "metadata": {
        "colab": {
          "base_uri": "https://localhost:8080/"
        },
        "id": "KY33Xff16L7n",
        "outputId": "88ddc24f-7958-4924-c162-6551be6a4710"
      },
      "outputs": [
        {
          "output_type": "stream",
          "name": "stdout",
          "text": [
            "Looking in indexes: https://pypi.org/simple, https://us-python.pkg.dev/colab-wheels/public/simple/\n",
            "Requirement already satisfied: z3-solver in /usr/local/lib/python3.7/dist-packages (4.8.17.0)\n"
          ]
        }
      ],
      "source": [
        "!pip install z3-solver\n",
        "import matplotlib.pyplot as plt\n",
        "import numpy as np\n",
        "import seaborn as sns\n",
        "import time\n",
        "from z3 import *"
      ]
    },
    {
      "cell_type": "code",
      "source": [
        "def printBoard(board):\n",
        "  x = np.ones((3,3))\n",
        "  groups = np.block([[x*0,x*1,x*2], [x*3,x*4,x*5], [x*6,x*7,x*8]])\n",
        "  fig, ax = plt.subplots(1, 1, figsize=(3, 3))\n",
        "  x = np.array(board.astype('int').astype('str'))\n",
        "  x[x == \"0\"] = \"-\"\n",
        "  ax = sns.heatmap(groups, annot=x, cbar=False, cmap=\"tab20\", fmt=\"\", vmin=0, vmax=19, linewidths=1, annot_kws={\"size\":10})\n",
        "  ax.axis(\"off\")    \n",
        "  plt.tight_layout()\n",
        "  plt.show()"
      ],
      "metadata": {
        "id": "vQAizggF6RuA"
      },
      "execution_count": 4,
      "outputs": []
    },
    {
      "cell_type": "code",
      "source": [
        "print(\"Solving...\")\n",
        "start = time.time()\n",
        "board = np.zeros((9, 9))\n",
        "X = np.array(IntVector('x', 9**2), dtype=object).reshape(9, 9)\n",
        "s = Tactic(\"qffd\").solver()\n",
        "\n",
        "# normal sudoku\n",
        "s += [And(i > 0, i < 10) for i in X.ravel()]\n",
        "s += [Distinct(list(X[i, :])) for i in range(9)]\n",
        "s += [Distinct(list(X[:, i])) for i in range(9)]\n",
        "x = np.ones((3,3))\n",
        "groups = np.block([[x*0,x*1,x*2], [x*3,x*4,x*5], [x*6,x*7,x*8]])\n",
        "s += [Distinct(list(X[groups == i].ravel())) for i in range(9)]\n",
        "\n",
        "# add in rules\n",
        "def neigh(r,c):\n",
        "  neighbours = [(0,1), (0,-1), (1,0), (-1,0)]\n",
        "  valid_neighbours = []\n",
        "  for a,b in neighbours:\n",
        "    if r+a<9 and r+a>=0 and c+b<9 and c+b>=0:\n",
        "      valid_neighbours.append((r+a, c+b))\n",
        "  sum = 0\n",
        "  for a,b in valid_neighbours:\n",
        "    sum += X[a,b]\n",
        "  return X[r,c] == sum\n",
        "\n",
        "s += And(neigh(0,2), neigh(0,6), neigh(4,2), neigh(4,6), neigh(5,3), neigh(5,5), neigh(6,4), neigh(8,0), neigh(8,8))\n",
        "\n",
        "# arrows\n",
        "s += And(X[0,0] + X[0,1] == X[1,1], X[2,4] + X[3,4] == X[1,4], X[0,7] + X[0,8] == X[1,7], X[5,1] + X[6,1] == X[7,1], X[6,7] + X[7,7] == X[5,7])\n",
        "# given\n",
        "s += And(X[4,4] == 8, X[5,8] == 6)\n",
        "# differ by one\n",
        "s += And(Or(X[2,7] - X[3,7] == 1, X[2,7] - X[3,7] == -1), Or(X[5,1] - X[6,1] == 1, X[5,1] - X[6,1] == -1), Or(X[8,4] - X[8,5] == 1, X[8,4] - X[8,5] == -1))\n",
        "\n",
        "if s.check() == sat:\n",
        "  m = s.model()\n",
        "  eval = np.vectorize(lambda x : m.evaluate(x))\n",
        "  boardTemp = eval(X)\n",
        "  print(f\"Solved in {time.time() - start} seconds.\")\n",
        "  for (r, c), e in np.ndenumerate(boardTemp):\n",
        "    board[r][c] = str(e)\n",
        "  printBoard(board)\n",
        "else:\n",
        "  print(f\"Failed in {time.time() - start} seconds.\")"
      ],
      "metadata": {
        "colab": {
          "base_uri": "https://localhost:8080/",
          "height": 261
        },
        "id": "w1BbY1-n6TQ6",
        "outputId": "d3d56673-bb59-461b-b928-5b026fcc9e4a"
      },
      "execution_count": 8,
      "outputs": [
        {
          "output_type": "stream",
          "name": "stdout",
          "text": [
            "Solving...\n",
            "Solved in 0.1691141128540039 seconds.\n"
          ]
        },
        {
          "output_type": "display_data",
          "data": {
            "text/plain": [
              "<Figure size 216x216 with 1 Axes>"
            ],
            "image/png": "[encoded data removed]"
          },
          "metadata": {
            "needs_background": "light"
          }
        }
      ]
    }
  ]
}